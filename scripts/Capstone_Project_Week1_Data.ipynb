{
 "cells": [
  {
   "cell_type": "markdown",
   "metadata": {},
   "source": [
    "# Data\n",
    "The UCI repository made public a dataset called mammographic_masses.(source: https://archive.ics.uci.edu/ml/datasets/Mammographic+Mass)\n",
    "It contains 961 instances of masses detected in mammograms, with the following attributes:\n",
    "1.\tBI-RADS assessment of the breast density: 1 to 5 (ordinal).This attribute show how confident the severity classification is; it is not a \"predictive\" attribute \n",
    "2.\tAge: patient's age in years (integer)\n",
    "3.\tShape: mass shape: round=1 oval=2 lobular=3 irregular=4 (nominal)\n",
    "4.\tMargin: mass margin: circumscribed=1 microlobulated=2 obscured=3 ill-defined=4 spiculated=5 (nominal)\n",
    "5.\tDensity: mass density high=1 iso=2 low=3 fat-containing=4 (ordinal)\n",
    "6.\tSeverity: benign=0 or malignant=1 (binominal)\n",
    "    Severity is the classification that our ML will attempt to predict based on those attributes above.\n"
   ]
  },
  {
   "cell_type": "code",
   "execution_count": null,
   "metadata": {},
   "outputs": [],
   "source": []
  }
 ],
 "metadata": {
  "kernelspec": {
   "display_name": "Python 3",
   "language": "python",
   "name": "python3"
  },
  "language_info": {
   "codemirror_mode": {
    "name": "ipython",
    "version": 3
   },
   "file_extension": ".py",
   "mimetype": "text/x-python",
   "name": "python",
   "nbconvert_exporter": "python",
   "pygments_lexer": "ipython3",
   "version": "3.7.1"
  }
 },
 "nbformat": 4,
 "nbformat_minor": 2
}
