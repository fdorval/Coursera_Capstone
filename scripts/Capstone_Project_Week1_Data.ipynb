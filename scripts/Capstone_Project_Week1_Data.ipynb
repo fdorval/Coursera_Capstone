{
 "cells": [
  {
   "cell_type": "markdown",
   "metadata": {},
   "source": [
    "# Data\n",
    "The public dataset  mammographic_masses from UCI repository  will be used to predict the severity (benign or malignant)of a mammographic mass lesion (source https://archive.ics.uci.edu/ml/datasets/Mammographic+Mass).\n",
    "\n",
    "\n",
    "It contains 961 instances of masses detected in mammograms.\n",
    "\n",
    "Number of Attributes: 6 (1 goal field, 1 non-predictive, 4 predictive attributes)\n",
    "\n",
    "# The attributes of the dataset:\n",
    "1.\tBI-RADS assessment of the breast density: 1 to 5 (ordinal).This attribute show how confident the severity classification is; it is not a \"predictive\" attribute \n",
    "2.\tAge: patient's age in years (integer)\n",
    "3.\tShape: mass shape: round=1 oval=2 lobular=3 irregular=4 (nominal)\n",
    "4.\tMargin: mass margin: circumscribed=1 microlobulated=2 obscured=3 ill-defined=4 spiculated=5 (nominal)\n",
    "5.\tDensity: mass density high=1 iso=2 low=3 fat-containing=4 (ordinal)\n",
    "6.\tSeverity: benign=0 or malignant=1 (binominal)\n",
    "    Severity is the classification that our ML will attempt to predict based on the attributes above.\n",
    "\n",
    "\n",
    "8. Missing Attribute Values: Yes\n",
    "    - BI-RADS assessment:    2\n",
    "    - Age:                   5\n",
    "    - Shape:                31\n",
    "    - Margin:               48\n",
    "    - Density:              76\n",
    "    - Severity:              0\n",
    "\n",
    "9. Class Distribution: benign: 516; malignant: 445\n",
    "\n",
    "# Samples of the dataset\n",
    "\n",
    "        3,42,2,1,3,1\n",
    "        4,64,1,?,3,0\n",
    "        4,36,3,1,2,0\n",
    "        4,60,2,1,2,0\n",
    "        4,54,1,1,3,0\n"
   ]
  },
  {
   "cell_type": "code",
   "execution_count": null,
   "metadata": {},
   "outputs": [],
   "source": []
  }
 ],
 "metadata": {
  "kernelspec": {
   "display_name": "Python 3",
   "language": "python",
   "name": "python3"
  },
  "language_info": {
   "codemirror_mode": {
    "name": "ipython",
    "version": 3
   },
   "file_extension": ".py",
   "mimetype": "text/x-python",
   "name": "python",
   "nbconvert_exporter": "python",
   "pygments_lexer": "ipython3",
   "version": "3.7.1"
  }
 },
 "nbformat": 4,
 "nbformat_minor": 2
}
