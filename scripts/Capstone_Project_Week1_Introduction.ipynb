{
 "cells": [
  {
   "cell_type": "markdown",
   "metadata": {},
   "source": [
    "# Introduction/Business Problem\n",
    "Breast cancer is the most common cancer diagnosed in women in several countries (Ref American Cancer Society).\n",
    "It is a cancer that forms in the cells of the breasts. \n",
    "Mammography screening for breast cancer is at present the most effective method in reducing breast cancer mortality. \n",
    "A lot of unnecessary   surgery arises from false positives arising from mammogram results. \n",
    "This capstone aim to apply several supervised machine learning techniques to identify if a mass lesion is malign or benign.It will help to   build a better way to interpret the mammogram results and improve a lot of lives."
   ]
  },
  {
   "cell_type": "code",
   "execution_count": null,
   "metadata": {},
   "outputs": [],
   "source": []
  }
 ],
 "metadata": {
  "kernelspec": {
   "display_name": "Python 3",
   "language": "python",
   "name": "python3"
  },
  "language_info": {
   "codemirror_mode": {
    "name": "ipython",
    "version": 3
   },
   "file_extension": ".py",
   "mimetype": "text/x-python",
   "name": "python",
   "nbconvert_exporter": "python",
   "pygments_lexer": "ipython3",
   "version": "3.7.1"
  }
 },
 "nbformat": 4,
 "nbformat_minor": 2
}
